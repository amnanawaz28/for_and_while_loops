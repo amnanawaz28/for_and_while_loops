{
 "cells": [
  {
   "cell_type": "code",
   "execution_count": 1,
   "id": "be6f27fa-3266-4374-9118-90e706b8dd1f",
   "metadata": {},
   "outputs": [
    {
     "name": "stdout",
     "output_type": "stream",
     "text": [
      "1\n",
      "2\n",
      "3\n",
      "4\n",
      "5\n",
      "6\n",
      "7\n",
      "8\n",
      "9\n",
      "10\n"
     ]
    }
   ],
   "source": [
    "# practice questions \n",
    "# 01 counting while loop\n",
    "count = 1 \n",
    "while count <= 10:\n",
    "    print(count)\n",
    "    count+=1"
   ]
  },
  {
   "cell_type": "code",
   "execution_count": 3,
   "id": "7807dbd3-014b-4fbe-9dd4-7ab0e003114d",
   "metadata": {},
   "outputs": [
    {
     "name": "stdout",
     "output_type": "stream",
     "text": [
      "2\n",
      "4\n",
      "6\n",
      "8\n",
      "10\n",
      "12\n",
      "14\n",
      "16\n",
      "18\n",
      "20\n"
     ]
    }
   ],
   "source": [
    "# 02 print even numbers \n",
    "num = 2 \n",
    "while num<=20:\n",
    "    print(num)\n",
    "    num +=2"
   ]
  },
  {
   "cell_type": "code",
   "execution_count": 5,
   "id": "322fe4e9-446a-4b09-8c4f-876e35fde21a",
   "metadata": {},
   "outputs": [
    {
     "name": "stdout",
     "output_type": "stream",
     "text": [
      "The sum of the first 10 natural numbers is: 55\n"
     ]
    }
   ],
   "source": [
    "# 03 sum of natural numbers \n",
    "sum_of_numbers = 0  \n",
    "count = 1\n",
    "while count <= 10:\n",
    "    sum_of_numbers += count  \n",
    "    count += 1  \n",
    "print(\"The sum of the first 10 natural numbers is:\", sum_of_numbers)"
   ]
  },
  {
   "cell_type": "code",
   "execution_count": null,
   "id": "b0f7bc8a-209d-40ee-9bb0-6c04da57b538",
   "metadata": {},
   "outputs": [],
   "source": [
    "# 04 "
   ]
  },
  {
   "cell_type": "code",
   "execution_count": 7,
   "id": "65277c64-c309-4a01-9e27-64c0d831d273",
   "metadata": {},
   "outputs": [
    {
     "name": "stdout",
     "output_type": "stream",
     "text": [
      "lets start the fun\n"
     ]
    },
    {
     "name": "stdin",
     "output_type": "stream",
     "text": [
      "write the number: 33\n"
     ]
    },
    {
     "name": "stdout",
     "output_type": "stream",
     "text": [
      "you selected a lower number\n"
     ]
    },
    {
     "name": "stdin",
     "output_type": "stream",
     "text": [
      "write the number: 78\n"
     ]
    },
    {
     "name": "stdout",
     "output_type": "stream",
     "text": [
      "you selected a higher number\n"
     ]
    },
    {
     "name": "stdin",
     "output_type": "stream",
     "text": [
      "write the number: 69\n"
     ]
    },
    {
     "name": "stdout",
     "output_type": "stream",
     "text": [
      "CONGRATS YOU WON\n"
     ]
    }
   ],
   "source": [
    "# 05 number guessing game  \n",
    "num = 69\n",
    "print(\"lets start the fun\")\n",
    "while True:\n",
    "    number=int(input(\"write the number:\"))\n",
    "    if number==num:\n",
    "        print(\"CONGRATS YOU WON\")\n",
    "        break\n",
    "    elif number<num:\n",
    "        print(\"you selected a lower number\")\n",
    "    else:\n",
    "        print(\"you selected a higher number\")"
   ]
  },
  {
   "cell_type": "code",
   "execution_count": 9,
   "id": "e24143af-7ec3-4a69-9d1f-0282b66facc5",
   "metadata": {},
   "outputs": [
    {
     "name": "stdin",
     "output_type": "stream",
     "text": [
      "Enter a positive integer:  34\n"
     ]
    },
    {
     "name": "stdout",
     "output_type": "stream",
     "text": [
      "The factorial is: 295232799039604140847618609643520000000\n"
     ]
    }
   ],
   "source": [
    "# 06 factorial calculation\n",
    "n = int(input(\"Enter a positive integer: \"))\n",
    "factorial = 1\n",
    "while n > 1:\n",
    "    factorial *= n\n",
    "    n -= 1  \n",
    "print(\"The factorial is:\", factorial)"
   ]
  },
  {
   "cell_type": "code",
   "execution_count": 13,
   "id": "04ae5619-42b8-4ba6-83c1-e4a2ea347842",
   "metadata": {},
   "outputs": [
    {
     "name": "stdin",
     "output_type": "stream",
     "text": [
      "Enter a number (or 'done' to stop):  66\n",
      "Enter a number (or 'done' to stop):  34\n",
      "Enter a number (or 'done' to stop):  55\n",
      "Enter a number (or 'done' to stop):  done\n"
     ]
    },
    {
     "name": "stdout",
     "output_type": "stream",
     "text": [
      "The average is: 51.666666666666664\n"
     ]
    }
   ],
   "source": [
    "# 07 average calculator\n",
    "total_sum = 0\n",
    "count = 0\n",
    "while True:\n",
    "    user_input = input(\"Enter a number (or 'done' to stop): \")\n",
    "    \n",
    "    if user_input.lower() == 'done':\n",
    "        break\n",
    "    try:\n",
    "        number = float(user_input)  \n",
    "        total_sum += number  \n",
    "        count += 1 \n",
    "    except ValueError:\n",
    "        print(\"Please enter a valid number or 'done' to stop.\")\n",
    "if count > 0:\n",
    "    average = total_sum / count\n",
    "    print(\"The average is:\", average)\n",
    "else:\n",
    "    print(\"No numbers were entered.\")"
   ]
  },
  {
   "cell_type": "code",
   "execution_count": 15,
   "id": "2d386a06-6fc8-4baf-bfd1-38d3004fd435",
   "metadata": {},
   "outputs": [
    {
     "name": "stdin",
     "output_type": "stream",
     "text": [
      "Enter the number n to generate the Fibonacci sequence:  5\n"
     ]
    },
    {
     "name": "stdout",
     "output_type": "stream",
     "text": [
      "0 1 1 2 3 "
     ]
    }
   ],
   "source": [
    "# 08  Fibonacci Sequence\n",
    "n = int(input(\"Enter the number n to generate the Fibonacci sequence: \"))\n",
    "a, b = 0, 1\n",
    "count = 0\n",
    "while count < n:\n",
    "    print(a, end=\" \")\n",
    "    a, b = b, a + b \n",
    "    count += 1"
   ]
  }
 ],
 "metadata": {
  "kernelspec": {
   "display_name": "Python 3 (ipykernel)",
   "language": "python",
   "name": "python3"
  },
  "language_info": {
   "codemirror_mode": {
    "name": "ipython",
    "version": 3
   },
   "file_extension": ".py",
   "mimetype": "text/x-python",
   "name": "python",
   "nbconvert_exporter": "python",
   "pygments_lexer": "ipython3",
   "version": "3.12.4"
  }
 },
 "nbformat": 4,
 "nbformat_minor": 5
}
