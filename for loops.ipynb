{
 "cells": [
  {
   "cell_type": "code",
   "execution_count": 1,
   "id": "b3989e56-3e5d-41e7-8b4c-58fdc1492d13",
   "metadata": {},
   "outputs": [
    {
     "name": "stdout",
     "output_type": "stream",
     "text": [
      "the grey man: 0\n",
      "beast: 1\n",
      "uncharted: 2\n",
      "extraction: 3\n"
     ]
    }
   ],
   "source": [
    "# practice for loops\n",
    "# List Iteration\n",
    "favourite_movies=['the grey man','beast','uncharted','extraction']\n",
    "for index, movie in enumerate(favourite_movies):\n",
    "    print(f\"{movie}: {index}\")"
   ]
  },
  {
   "cell_type": "code",
   "execution_count": 3,
   "id": "3a6b09c9-7407-4bc9-beb4-fd5ce9c991aa",
   "metadata": {},
   "outputs": [
    {
     "name": "stdout",
     "output_type": "stream",
     "text": [
      "harry potter: 0\n",
      "fault in our stars: 1\n",
      "DEAD POOL N WOLVERINE: 2\n"
     ]
    }
   ],
   "source": [
    "# List Iteration\n",
    "favourite_movies=['harry potter','fault in our stars','DEAD POOL N WOLVERINE']\n",
    "for i in range(len(favourite_movies)):\n",
    "    print(f\"{favourite_movies[i]}: {i}\")"
   ]
  },
  {
   "cell_type": "code",
   "execution_count": 5,
   "id": "d2d0fae4-5c0c-40df-94a0-82a9ac42406d",
   "metadata": {},
   "outputs": [
    {
     "name": "stdout",
     "output_type": "stream",
     "text": [
      "A\n",
      "m\n",
      "n\n",
      "a\n",
      " \n",
      "N\n",
      "a\n",
      "w\n",
      "a\n",
      "z\n",
      "No. of vowels: 3\n"
     ]
    }
   ],
   "source": [
    "# String Iteration\n",
    "full_name='Amna Nawaz'\n",
    "for char in full_name:\n",
    "    print(char)\n",
    "vowels='aeiou'\n",
    "count=0\n",
    "for char in full_name:\n",
    "    if char in vowels:\n",
    "        count+=1\n",
    "print('No. of vowels:', count)"
   ]
  },
  {
   "cell_type": "code",
   "execution_count": 9,
   "id": "2f84f714-2cb4-4dae-870b-04a4c76ac342",
   "metadata": {},
   "outputs": [
    {
     "name": "stdout",
     "output_type": "stream",
     "text": [
      "\n",
      "Zaha\n",
      "34\n",
      "\n",
      "Amna\n",
      "34\n",
      "\n",
      "Mehak\n",
      "30\n",
      "\n",
      "tasmiyyah\n",
      "30\n",
      "\n",
      "mishaym\n",
      "33\n",
      "\n",
      "Student with highest grade: Zaha\n",
      "\n",
      "Student with highest grade: Amna\n"
     ]
    }
   ],
   "source": [
    "# Dictionary Iteration\n",
    "students_grades={'Zaha':34,'Amna':34,'Mehak':30,'tasmiyyah':30,'mishaym':33}\n",
    "for name, grade in students_grades.items():\n",
    "    print(f\"\\n{name}\")\n",
    "    print(grade)\n",
    "highest_grade=max(students_grades.values())\n",
    "for name, grade in students_grades.items():\n",
    "    if grade==highest_grade:\n",
    "        print(f\"\\nStudent with highest grade: {name}\")"
   ]
  },
  {
   "cell_type": "code",
   "execution_count": 11,
   "id": "7617e99d-f4a6-462b-a5fd-7f4cbf0824a0",
   "metadata": {},
   "outputs": [
    {
     "name": "stdout",
     "output_type": "stream",
     "text": [
      "3 2 3 \n",
      "4 8 6 \n",
      "7 83 6 \n",
      "Sum of all elements in matrix: 122\n"
     ]
    }
   ],
   "source": [
    "# Nested for loops\n",
    "matrix=[\n",
    "    [3,2,3],\n",
    "    [4,8,6],\n",
    "    [7,83,6]\n",
    "]\n",
    "for row in matrix:\n",
    "    for cell in row:\n",
    "        print(cell, end=' ')\n",
    "    print()\n",
    "sum=0\n",
    "for row in matrix:\n",
    "    for cell in row:\n",
    "        sum+=cell\n",
    "print('Sum of all elements in matrix:',sum)"
   ]
  },
  {
   "cell_type": "code",
   "execution_count": 13,
   "id": "5caba5a2-755a-4353-a293-94f14254b341",
   "metadata": {},
   "outputs": [
    {
     "name": "stdout",
     "output_type": "stream",
     "text": [
      "Using for loop: [1, 4, 9, 16, 25, 36, 49, 64, 81, 100]\n",
      "Using list comprehension: [1, 4, 9, 16, 25, 36, 49, 64, 81, 100]\n"
     ]
    }
   ],
   "source": [
    "# Printing squares\n",
    "# Using for loop\n",
    "squares=[]\n",
    "for i in range(1,11):\n",
    "    squares.append(i**2)\n",
    "print('Using for loop:',squares)\n",
    "# Using List Comprehension\n",
    "squares=[i**2 for i in range(1,11)]\n",
    "print('Using list comprehension:',squares)"
   ]
  }
 ],
 "metadata": {
  "kernelspec": {
   "display_name": "Python 3 (ipykernel)",
   "language": "python",
   "name": "python3"
  },
  "language_info": {
   "codemirror_mode": {
    "name": "ipython",
    "version": 3
   },
   "file_extension": ".py",
   "mimetype": "text/x-python",
   "name": "python",
   "nbconvert_exporter": "python",
   "pygments_lexer": "ipython3",
   "version": "3.12.4"
  }
 },
 "nbformat": 4,
 "nbformat_minor": 5
}
